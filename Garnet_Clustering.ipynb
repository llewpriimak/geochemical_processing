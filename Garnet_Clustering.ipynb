{
 "cells": [
  {
   "cell_type": "markdown",
   "id": "b2459318",
   "metadata": {},
   "source": [
    "## Notebook is designed to run clustering Algorithms to find garnet populations based on chemistry"
   ]
  },
  {
   "cell_type": "code",
   "execution_count": 1,
   "id": "82744202",
   "metadata": {},
   "outputs": [],
   "source": [
    "from sklearn.cluster import KMeans\n",
    "import numpy as np\n",
    "import pandas as pd\n",
    "from sklearn import metrics\n",
    "from sklearn.metrics import silhouette_score\n",
    "from sklearn.cluster import DBSCAN\n",
    "\n",
    "from scipy.cluster.hierarchy import dendrogram, linkage, cophenet\n",
    "from scipy.spatial.distance import pdist\n",
    "from scipy.spatial.distance import squareform\n",
    "\n",
    "import matplotlib.pyplot as plt\n",
    "%matplotlib inline"
   ]
  },
  {
   "cell_type": "code",
   "execution_count": 2,
   "id": "2cc3b6bf",
   "metadata": {},
   "outputs": [
    {
     "data": {
      "text/html": [
       "<div>\n",
       "<style scoped>\n",
       "    .dataframe tbody tr th:only-of-type {\n",
       "        vertical-align: middle;\n",
       "    }\n",
       "\n",
       "    .dataframe tbody tr th {\n",
       "        vertical-align: top;\n",
       "    }\n",
       "\n",
       "    .dataframe thead th {\n",
       "        text-align: right;\n",
       "    }\n",
       "</style>\n",
       "<table border=\"1\" class=\"dataframe\">\n",
       "  <thead>\n",
       "    <tr style=\"text-align: right;\">\n",
       "      <th></th>\n",
       "      <th>SAMPLE</th>\n",
       "      <th>X-POS</th>\n",
       "      <th>Y-POS</th>\n",
       "      <th>Unnamed: 3</th>\n",
       "      <th>Spess</th>\n",
       "      <th>Gross</th>\n",
       "      <th>Alm</th>\n",
       "      <th>Pyrope</th>\n",
       "      <th>Alm +Sps</th>\n",
       "    </tr>\n",
       "  </thead>\n",
       "  <tbody>\n",
       "    <tr>\n",
       "      <th>0</th>\n",
       "      <td>SK-8</td>\n",
       "      <td>23.3698</td>\n",
       "      <td>46.6769</td>\n",
       "      <td>0.00000</td>\n",
       "      <td>0.404909</td>\n",
       "      <td>0.042656</td>\n",
       "      <td>0.507782</td>\n",
       "      <td>0.044652</td>\n",
       "      <td>0.912691</td>\n",
       "    </tr>\n",
       "    <tr>\n",
       "      <th>1</th>\n",
       "      <td>SK-8</td>\n",
       "      <td>23.3702</td>\n",
       "      <td>46.6944</td>\n",
       "      <td>0.70625</td>\n",
       "      <td>0.409334</td>\n",
       "      <td>0.027028</td>\n",
       "      <td>0.517779</td>\n",
       "      <td>0.045859</td>\n",
       "      <td>0.927113</td>\n",
       "    </tr>\n",
       "    <tr>\n",
       "      <th>2</th>\n",
       "      <td>SK-8</td>\n",
       "      <td>23.3748</td>\n",
       "      <td>46.7128</td>\n",
       "      <td>6.28881</td>\n",
       "      <td>0.398259</td>\n",
       "      <td>0.044913</td>\n",
       "      <td>0.513330</td>\n",
       "      <td>0.043498</td>\n",
       "      <td>0.911589</td>\n",
       "    </tr>\n",
       "    <tr>\n",
       "      <th>3</th>\n",
       "      <td>SK-8</td>\n",
       "      <td>23.3798</td>\n",
       "      <td>46.7321</td>\n",
       "      <td>13.04704</td>\n",
       "      <td>0.402778</td>\n",
       "      <td>0.049492</td>\n",
       "      <td>0.503932</td>\n",
       "      <td>0.043798</td>\n",
       "      <td>0.906710</td>\n",
       "    </tr>\n",
       "    <tr>\n",
       "      <th>4</th>\n",
       "      <td>SK-8</td>\n",
       "      <td>23.3831</td>\n",
       "      <td>46.7443</td>\n",
       "      <td>17.84276</td>\n",
       "      <td>0.409868</td>\n",
       "      <td>0.028709</td>\n",
       "      <td>0.515067</td>\n",
       "      <td>0.046356</td>\n",
       "      <td>0.924934</td>\n",
       "    </tr>\n",
       "    <tr>\n",
       "      <th>...</th>\n",
       "      <td>...</td>\n",
       "      <td>...</td>\n",
       "      <td>...</td>\n",
       "      <td>...</td>\n",
       "      <td>...</td>\n",
       "      <td>...</td>\n",
       "      <td>...</td>\n",
       "      <td>...</td>\n",
       "      <td>...</td>\n",
       "    </tr>\n",
       "    <tr>\n",
       "      <th>99</th>\n",
       "      <td>SK-8_09</td>\n",
       "      <td>12.6858</td>\n",
       "      <td>57.2590</td>\n",
       "      <td>20.19616</td>\n",
       "      <td>0.002405</td>\n",
       "      <td>0.009154</td>\n",
       "      <td>0.781895</td>\n",
       "      <td>0.206545</td>\n",
       "      <td>0.784301</td>\n",
       "    </tr>\n",
       "    <tr>\n",
       "      <th>100</th>\n",
       "      <td>SK-8_09</td>\n",
       "      <td>12.6913</td>\n",
       "      <td>57.2683</td>\n",
       "      <td>21.39321</td>\n",
       "      <td>0.001619</td>\n",
       "      <td>0.008846</td>\n",
       "      <td>0.785189</td>\n",
       "      <td>0.204347</td>\n",
       "      <td>0.786807</td>\n",
       "    </tr>\n",
       "    <tr>\n",
       "      <th>101</th>\n",
       "      <td>SK-8_09</td>\n",
       "      <td>12.6247</td>\n",
       "      <td>57.2046</td>\n",
       "      <td>70.15504</td>\n",
       "      <td>0.001982</td>\n",
       "      <td>0.009414</td>\n",
       "      <td>0.774465</td>\n",
       "      <td>0.214139</td>\n",
       "      <td>0.776446</td>\n",
       "    </tr>\n",
       "    <tr>\n",
       "      <th>102</th>\n",
       "      <td>SK-8_09</td>\n",
       "      <td>12.6705</td>\n",
       "      <td>57.1927</td>\n",
       "      <td>22.70689</td>\n",
       "      <td>0.001315</td>\n",
       "      <td>0.016550</td>\n",
       "      <td>0.769850</td>\n",
       "      <td>0.212285</td>\n",
       "      <td>0.771165</td>\n",
       "    </tr>\n",
       "    <tr>\n",
       "      <th>103</th>\n",
       "      <td>SK-8_09</td>\n",
       "      <td>12.7164</td>\n",
       "      <td>57.1814</td>\n",
       "      <td>29.90400</td>\n",
       "      <td>0.001342</td>\n",
       "      <td>0.016737</td>\n",
       "      <td>0.773142</td>\n",
       "      <td>0.208780</td>\n",
       "      <td>0.774483</td>\n",
       "    </tr>\n",
       "  </tbody>\n",
       "</table>\n",
       "<p>104 rows × 9 columns</p>\n",
       "</div>"
      ],
      "text/plain": [
       "      SAMPLE    X-POS    Y-POS  Unnamed: 3     Spess     Gross       Alm  \\\n",
       "0       SK-8  23.3698  46.6769     0.00000  0.404909  0.042656  0.507782   \n",
       "1       SK-8  23.3702  46.6944     0.70625  0.409334  0.027028  0.517779   \n",
       "2       SK-8  23.3748  46.7128     6.28881  0.398259  0.044913  0.513330   \n",
       "3       SK-8  23.3798  46.7321    13.04704  0.402778  0.049492  0.503932   \n",
       "4       SK-8  23.3831  46.7443    17.84276  0.409868  0.028709  0.515067   \n",
       "..       ...      ...      ...         ...       ...       ...       ...   \n",
       "99   SK-8_09  12.6858  57.2590    20.19616  0.002405  0.009154  0.781895   \n",
       "100  SK-8_09  12.6913  57.2683    21.39321  0.001619  0.008846  0.785189   \n",
       "101  SK-8_09  12.6247  57.2046    70.15504  0.001982  0.009414  0.774465   \n",
       "102  SK-8_09  12.6705  57.1927    22.70689  0.001315  0.016550  0.769850   \n",
       "103  SK-8_09  12.7164  57.1814    29.90400  0.001342  0.016737  0.773142   \n",
       "\n",
       "       Pyrope  Alm +Sps  \n",
       "0    0.044652  0.912691  \n",
       "1    0.045859  0.927113  \n",
       "2    0.043498  0.911589  \n",
       "3    0.043798  0.906710  \n",
       "4    0.046356  0.924934  \n",
       "..        ...       ...  \n",
       "99   0.206545  0.784301  \n",
       "100  0.204347  0.786807  \n",
       "101  0.214139  0.776446  \n",
       "102  0.212285  0.771165  \n",
       "103  0.208780  0.774483  \n",
       "\n",
       "[104 rows x 9 columns]"
      ]
     },
     "execution_count": 2,
     "metadata": {},
     "output_type": "execute_result"
    }
   ],
   "source": [
    "chem_df = pd.read_excel(\"ternary.xlsx\")\n",
    "chem_df"
   ]
  },
  {
   "cell_type": "code",
   "execution_count": 20,
   "id": "be59ee4e",
   "metadata": {},
   "outputs": [
    {
     "data": {
      "text/html": [
       "<div>\n",
       "<style scoped>\n",
       "    .dataframe tbody tr th:only-of-type {\n",
       "        vertical-align: middle;\n",
       "    }\n",
       "\n",
       "    .dataframe tbody tr th {\n",
       "        vertical-align: top;\n",
       "    }\n",
       "\n",
       "    .dataframe thead th {\n",
       "        text-align: right;\n",
       "    }\n",
       "</style>\n",
       "<table border=\"1\" class=\"dataframe\">\n",
       "  <thead>\n",
       "    <tr style=\"text-align: right;\">\n",
       "      <th></th>\n",
       "      <th>Spess</th>\n",
       "      <th>Gross</th>\n",
       "      <th>Pyrope</th>\n",
       "      <th>Alm +Sps</th>\n",
       "    </tr>\n",
       "  </thead>\n",
       "  <tbody>\n",
       "    <tr>\n",
       "      <th>0</th>\n",
       "      <td>0.404909</td>\n",
       "      <td>0.042656</td>\n",
       "      <td>0.044652</td>\n",
       "      <td>0.912691</td>\n",
       "    </tr>\n",
       "    <tr>\n",
       "      <th>1</th>\n",
       "      <td>0.409334</td>\n",
       "      <td>0.027028</td>\n",
       "      <td>0.045859</td>\n",
       "      <td>0.927113</td>\n",
       "    </tr>\n",
       "    <tr>\n",
       "      <th>2</th>\n",
       "      <td>0.398259</td>\n",
       "      <td>0.044913</td>\n",
       "      <td>0.043498</td>\n",
       "      <td>0.911589</td>\n",
       "    </tr>\n",
       "    <tr>\n",
       "      <th>3</th>\n",
       "      <td>0.402778</td>\n",
       "      <td>0.049492</td>\n",
       "      <td>0.043798</td>\n",
       "      <td>0.906710</td>\n",
       "    </tr>\n",
       "    <tr>\n",
       "      <th>4</th>\n",
       "      <td>0.409868</td>\n",
       "      <td>0.028709</td>\n",
       "      <td>0.046356</td>\n",
       "      <td>0.924934</td>\n",
       "    </tr>\n",
       "    <tr>\n",
       "      <th>...</th>\n",
       "      <td>...</td>\n",
       "      <td>...</td>\n",
       "      <td>...</td>\n",
       "      <td>...</td>\n",
       "    </tr>\n",
       "    <tr>\n",
       "      <th>99</th>\n",
       "      <td>0.002405</td>\n",
       "      <td>0.009154</td>\n",
       "      <td>0.206545</td>\n",
       "      <td>0.784301</td>\n",
       "    </tr>\n",
       "    <tr>\n",
       "      <th>100</th>\n",
       "      <td>0.001619</td>\n",
       "      <td>0.008846</td>\n",
       "      <td>0.204347</td>\n",
       "      <td>0.786807</td>\n",
       "    </tr>\n",
       "    <tr>\n",
       "      <th>101</th>\n",
       "      <td>0.001982</td>\n",
       "      <td>0.009414</td>\n",
       "      <td>0.214139</td>\n",
       "      <td>0.776446</td>\n",
       "    </tr>\n",
       "    <tr>\n",
       "      <th>102</th>\n",
       "      <td>0.001315</td>\n",
       "      <td>0.016550</td>\n",
       "      <td>0.212285</td>\n",
       "      <td>0.771165</td>\n",
       "    </tr>\n",
       "    <tr>\n",
       "      <th>103</th>\n",
       "      <td>0.001342</td>\n",
       "      <td>0.016737</td>\n",
       "      <td>0.208780</td>\n",
       "      <td>0.774483</td>\n",
       "    </tr>\n",
       "  </tbody>\n",
       "</table>\n",
       "<p>104 rows × 4 columns</p>\n",
       "</div>"
      ],
      "text/plain": [
       "        Spess     Gross    Pyrope  Alm +Sps\n",
       "0    0.404909  0.042656  0.044652  0.912691\n",
       "1    0.409334  0.027028  0.045859  0.927113\n",
       "2    0.398259  0.044913  0.043498  0.911589\n",
       "3    0.402778  0.049492  0.043798  0.906710\n",
       "4    0.409868  0.028709  0.046356  0.924934\n",
       "..        ...       ...       ...       ...\n",
       "99   0.002405  0.009154  0.206545  0.784301\n",
       "100  0.001619  0.008846  0.204347  0.786807\n",
       "101  0.001982  0.009414  0.214139  0.776446\n",
       "102  0.001315  0.016550  0.212285  0.771165\n",
       "103  0.001342  0.016737  0.208780  0.774483\n",
       "\n",
       "[104 rows x 4 columns]"
      ]
     },
     "execution_count": 20,
     "metadata": {},
     "output_type": "execute_result"
    }
   ],
   "source": [
    "rchem_df = chem_df[[\"Spess\",\"Gross\",\"Pyrope\",\"Alm +Sps\"]]\n",
    "rchem_df"
   ]
  },
  {
   "cell_type": "markdown",
   "id": "f1fab1e7",
   "metadata": {},
   "source": [
    "## This section uses KMeans"
   ]
  },
  {
   "cell_type": "code",
   "execution_count": 21,
   "id": "cd5848fd",
   "metadata": {},
   "outputs": [
    {
     "data": {
      "text/plain": [
       "0.8502698390947744"
      ]
     },
     "execution_count": 21,
     "metadata": {},
     "output_type": "execute_result"
    }
   ],
   "source": [
    "kmeans = KMeans(n_clusters=2)\n",
    "kmeans_labels = kmeans.fit_predict(rchem_df)\n",
    "silhouette_score(rchem_df, kmeans_labels)"
   ]
  },
  {
   "cell_type": "markdown",
   "id": "518b21ee",
   "metadata": {},
   "source": [
    "## This section uses DBscan"
   ]
  },
  {
   "cell_type": "code",
   "execution_count": 22,
   "id": "a06a373a",
   "metadata": {},
   "outputs": [
    {
     "name": "stdout",
     "output_type": "stream",
     "text": [
      "[77 27]\n"
     ]
    }
   ],
   "source": [
    "clustering = DBSCAN(eps=0.2, min_samples= 4).fit(rchem_df)\n",
    "#clustering.labels_\n",
    "unique_labels, category_sizes = np.unique(clustering.labels_, return_counts=True)\n",
    "print(category_sizes)\n"
   ]
  },
  {
   "cell_type": "code",
   "execution_count": 23,
   "id": "e131a6c8",
   "metadata": {},
   "outputs": [
    {
     "name": "stdout",
     "output_type": "stream",
     "text": [
      "{0, 1}\n",
      "0\n"
     ]
    }
   ],
   "source": [
    "print(set(clustering.labels_))\n",
    "print(list(clustering.labels_).count(-1))"
   ]
  },
  {
   "cell_type": "markdown",
   "id": "133b30e9",
   "metadata": {},
   "source": [
    "# This section uses Hierarchical clustering"
   ]
  },
  {
   "cell_type": "code",
   "execution_count": 24,
   "id": "fbdda9c8",
   "metadata": {},
   "outputs": [
    {
     "data": {
      "image/png": "[encoded data removed]",
      "text/plain": [
       "<Figure size 864x576 with 1 Axes>"
      ]
     },
     "metadata": {
      "needs_background": "light"
     },
     "output_type": "display_data"
    }
   ],
   "source": [
    "Z = linkage(rchem_df, 'ward')\n",
    "fig = plt.figure(figsize=(12, 8))\n",
    "dn = dendrogram(Z)\n",
    "#labels=s_states.tolist()\n",
    "plt.title(\"Dendrogram using Ward\")\n",
    "\n",
    "plt.show()"
   ]
  },
  {
   "cell_type": "code",
   "execution_count": 25,
   "id": "24b1cd12",
   "metadata": {},
   "outputs": [
    {
     "data": {
      "image/png": "[encoded data removed]",
      "text/plain": [
       "<Figure size 864x576 with 1 Axes>"
      ]
     },
     "metadata": {
      "needs_background": "light"
     },
     "output_type": "display_data"
    }
   ],
   "source": [
    "Z = linkage(rchem_df, 'single')\n",
    "fig = plt.figure(figsize=(12, 8))\n",
    "dn = dendrogram(Z)\n",
    "plt.title(\"Dendrogram using Min\")\n",
    "\n",
    "plt.show()"
   ]
  },
  {
   "cell_type": "code",
   "execution_count": 26,
   "id": "3dd1110f",
   "metadata": {},
   "outputs": [
    {
     "data": {
      "image/png": "[encoded data removed]",
      "text/plain": [
       "<Figure size 864x576 with 1 Axes>"
      ]
     },
     "metadata": {
      "needs_background": "light"
     },
     "output_type": "display_data"
    }
   ],
   "source": [
    "Z = linkage(rchem_df, 'complete')\n",
    "fig = plt.figure(figsize=(12, 8))\n",
    "dn = dendrogram(Z)\n",
    "plt.title(\"Dendrogram using Max\")\n",
    "\n",
    "plt.show()"
   ]
  },
  {
   "cell_type": "markdown",
   "id": "bc3ee333",
   "metadata": {},
   "source": [
    "## This section groups by area on tertiary diagram"
   ]
  },
  {
   "cell_type": "code",
   "execution_count": 10,
   "id": "99de099a",
   "metadata": {},
   "outputs": [
    {
     "data": {
      "text/html": [
       "<div>\n",
       "<style scoped>\n",
       "    .dataframe tbody tr th:only-of-type {\n",
       "        vertical-align: middle;\n",
       "    }\n",
       "\n",
       "    .dataframe tbody tr th {\n",
       "        vertical-align: top;\n",
       "    }\n",
       "\n",
       "    .dataframe thead th {\n",
       "        text-align: right;\n",
       "    }\n",
       "</style>\n",
       "<table border=\"1\" class=\"dataframe\">\n",
       "  <thead>\n",
       "    <tr style=\"text-align: right;\">\n",
       "      <th></th>\n",
       "      <th>X-POS</th>\n",
       "      <th>Y-POS</th>\n",
       "    </tr>\n",
       "  </thead>\n",
       "  <tbody>\n",
       "    <tr>\n",
       "      <th>0</th>\n",
       "      <td>23.3698</td>\n",
       "      <td>46.6769</td>\n",
       "    </tr>\n",
       "    <tr>\n",
       "      <th>1</th>\n",
       "      <td>23.3702</td>\n",
       "      <td>46.6944</td>\n",
       "    </tr>\n",
       "    <tr>\n",
       "      <th>2</th>\n",
       "      <td>23.3748</td>\n",
       "      <td>46.7128</td>\n",
       "    </tr>\n",
       "    <tr>\n",
       "      <th>3</th>\n",
       "      <td>23.3798</td>\n",
       "      <td>46.7321</td>\n",
       "    </tr>\n",
       "    <tr>\n",
       "      <th>4</th>\n",
       "      <td>23.3831</td>\n",
       "      <td>46.7443</td>\n",
       "    </tr>\n",
       "    <tr>\n",
       "      <th>...</th>\n",
       "      <td>...</td>\n",
       "      <td>...</td>\n",
       "    </tr>\n",
       "    <tr>\n",
       "      <th>99</th>\n",
       "      <td>12.6858</td>\n",
       "      <td>57.2590</td>\n",
       "    </tr>\n",
       "    <tr>\n",
       "      <th>100</th>\n",
       "      <td>12.6913</td>\n",
       "      <td>57.2683</td>\n",
       "    </tr>\n",
       "    <tr>\n",
       "      <th>101</th>\n",
       "      <td>12.6247</td>\n",
       "      <td>57.2046</td>\n",
       "    </tr>\n",
       "    <tr>\n",
       "      <th>102</th>\n",
       "      <td>12.6705</td>\n",
       "      <td>57.1927</td>\n",
       "    </tr>\n",
       "    <tr>\n",
       "      <th>103</th>\n",
       "      <td>12.7164</td>\n",
       "      <td>57.1814</td>\n",
       "    </tr>\n",
       "  </tbody>\n",
       "</table>\n",
       "<p>104 rows × 2 columns</p>\n",
       "</div>"
      ],
      "text/plain": [
       "       X-POS    Y-POS\n",
       "0    23.3698  46.6769\n",
       "1    23.3702  46.6944\n",
       "2    23.3748  46.7128\n",
       "3    23.3798  46.7321\n",
       "4    23.3831  46.7443\n",
       "..       ...      ...\n",
       "99   12.6858  57.2590\n",
       "100  12.6913  57.2683\n",
       "101  12.6247  57.2046\n",
       "102  12.6705  57.1927\n",
       "103  12.7164  57.1814\n",
       "\n",
       "[104 rows x 2 columns]"
      ]
     },
     "execution_count": 10,
     "metadata": {},
     "output_type": "execute_result"
    }
   ],
   "source": [
    "pos_df = chem_df[[\"X-POS\",\"Y-POS\"]]\n",
    "pos_df"
   ]
  },
  {
   "cell_type": "code",
   "execution_count": 11,
   "id": "9c5afe43",
   "metadata": {},
   "outputs": [
    {
     "data": {
      "text/plain": [
       "<matplotlib.collections.PathCollection at 0x7ff101318d60>"
      ]
     },
     "execution_count": 11,
     "metadata": {},
     "output_type": "execute_result"
    },
    {
     "data": {
      "image/png": "[encoded data removed]",
      "text/plain": [
       "<Figure size 432x288 with 1 Axes>"
      ]
     },
     "metadata": {
      "needs_background": "light"
     },
     "output_type": "display_data"
    }
   ],
   "source": [
    "plt.scatter(pos_df[\"X-POS\"], pos_df[\"Y-POS\"], alpha=1, marker='o')"
   ]
  },
  {
   "cell_type": "code",
   "execution_count": 12,
   "id": "185e0b60",
   "metadata": {},
   "outputs": [
    {
     "data": {
      "text/plain": [
       "array([2, 2, 2, 2, 2, 2, 2, 2, 2, 2, 2, 2, 2, 2, 2, 2, 2, 2, 2, 2, 2, 2,\n",
       "       2, 2, 2, 2, 2, 2, 2, 2, 2, 2, 2, 2, 2, 2, 2, 2, 2, 2, 2, 2, 2, 2,\n",
       "       2, 2, 2, 2, 2, 2, 2, 2, 2, 2, 2, 2, 2, 2, 2, 2, 2, 2, 1, 1, 1, 1,\n",
       "       1, 1, 1, 1, 1, 1, 1, 1, 1, 1, 1, 1, 1, 1, 1, 1, 1, 1, 1, 1, 1, 1,\n",
       "       1, 1, 0, 0, 0, 0, 0, 0, 0, 0, 0, 0, 0, 0, 0, 0], dtype=int32)"
      ]
     },
     "execution_count": 12,
     "metadata": {},
     "output_type": "execute_result"
    }
   ],
   "source": [
    "km = KMeans(\n",
    "    n_clusters=3, init='random',\n",
    "    n_init=10, max_iter=300, \n",
    "    tol=1e-04, random_state=0\n",
    ")\n",
    "\n",
    "labels = km.fit_predict(pos_df)\n",
    "labels"
   ]
  },
  {
   "cell_type": "code",
   "execution_count": 13,
   "id": "eb45fb78",
   "metadata": {},
   "outputs": [
    {
     "data": {
      "text/plain": [
       "<matplotlib.collections.PathCollection at 0x7ff10137ec70>"
      ]
     },
     "execution_count": 13,
     "metadata": {},
     "output_type": "execute_result"
    },
    {
     "data": {
      "image/png": "[encoded data removed]",
      "text/plain": [
       "<Figure size 432x288 with 1 Axes>"
      ]
     },
     "metadata": {
      "needs_background": "light"
     },
     "output_type": "display_data"
    }
   ],
   "source": [
    "plt.scatter(pos_df[\"X-POS\"], pos_df[\"Y-POS\"], c=labels, alpha=1, marker='.')"
   ]
  },
  {
   "cell_type": "code",
   "execution_count": null,
   "id": "9455896b",
   "metadata": {},
   "outputs": [],
   "source": []
  },
  {
   "cell_type": "code",
   "execution_count": null,
   "id": "a133eeb6",
   "metadata": {},
   "outputs": [],
   "source": []
  }
 ],
 "metadata": {
  "kernelspec": {
   "display_name": "Python 3 (ipykernel)",
   "language": "python",
   "name": "python3"
  },
  "language_info": {
   "codemirror_mode": {
    "name": "ipython",
    "version": 3
   },
   "file_extension": ".py",
   "mimetype": "text/x-python",
   "name": "python",
   "nbconvert_exporter": "python",
   "pygments_lexer": "ipython3",
   "version": "3.9.12"
  }
 },
 "nbformat": 4,
 "nbformat_minor": 5
}
