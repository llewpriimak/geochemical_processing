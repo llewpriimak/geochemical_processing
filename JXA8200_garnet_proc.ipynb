{
 "cells": [
  {
   "cell_type": "markdown",
   "id": "31d7f16c",
   "metadata": {},
   "source": [
    "last updated on 09/01/2024"
   ]
  },
  {
   "cell_type": "markdown",
   "id": "1b8f20f2",
   "metadata": {},
   "source": [
    "## This script is designed to take data from the JXA-8200 superprobe and plot element changes throughout the crystal. "
   ]
  },
  {
   "cell_type": "code",
   "execution_count": 11,
   "id": "3494ff28",
   "metadata": {},
   "outputs": [],
   "source": [
    "import pandas as pd\n",
    "import matplotlib\n",
    "import matplotlib.pyplot as plt\n",
    "import math\n",
    "import openpyxl\n",
    "import numpy as np"
   ]
  },
  {
   "cell_type": "code",
   "execution_count": 12,
   "id": "35e81177",
   "metadata": {},
   "outputs": [],
   "source": [
    "# Value correction takes oxide weight percents and\n",
    "# returns 5 values each corresponding to compositions\n",
    "# Spessartine, Grossular, Almandine, Pyrope, and Fe.\n",
    "\n",
    "\n",
    "def value_correction(grain_frame,transect):\n",
    "\n",
    "\n",
    "    Si = 60.09 ; Al = 101.96 ; Mn = 70.938 ; Mg = 40.305 \\\n",
    "        ; Ca = 56.078 ; Na = 61.978 ; Fe = 71.847 ; Ti = 79.88\n",
    "\n",
    "    #print(grain_frame)\n",
    "    new_Na = (grain_frame[\"Na2O\"] / Na) ; new_Si = (grain_frame[\"SiO3\"] / Si) * 3\n",
    "    new_Al = (grain_frame[\"Al2O3\"] / Al) * 3 ; new_Mn = (grain_frame[\"MnO\"] / Mn)\n",
    "    new_Ca = (grain_frame[\"CaO\"] / Ca) ; new_Fe = (grain_frame[\"FeO\"] / Fe)\n",
    "    new_Ti = (grain_frame[\"TiO2\"] / Ti) * 2 ; new_Mg = (grain_frame[\"MgO\"] / Mg)\n",
    "\n",
    "    # Write this part into a data frame/array^\n",
    "    total_it = new_Na + new_Si + new_Al + new_Mn + new_Ca + new_Fe + new_Ti + new_Mg\n",
    "    normal_12 = 12/total_it\n",
    "\n",
    "    new2_Na = new_Na * normal_12 ; new2_Mg = new_Mg * normal_12\n",
    "    new2_Si = new_Si * normal_12 ; new2_Al = new_Al * normal_12\n",
    "    new2_Mn = new_Mn * normal_12 ; new2_Ca = new_Ca * normal_12\n",
    "    new2_Fe = new_Fe * normal_12 ; new2_Ti = new_Ti * normal_12\n",
    "\n",
    "    pure_Na = new2_Na * 2 ; pure_Si = new2_Si * (1/3)\n",
    "    pure_Al = new2_Al * (2/3) ; pure_Mn = new2_Mn ; pure_Mg = new2_Mg\n",
    "    pure_Fe = new2_Fe; pure_Ca = new2_Ca ; pure_Ti = new2_Ti * 0.5\n",
    "\n",
    "    spess = pure_Mn / (pure_Mn + pure_Mg + pure_Ca + pure_Fe)\n",
    "    gross = pure_Ca / (pure_Mn + pure_Mg + pure_Ca + pure_Fe)\n",
    "    alman = pure_Fe / (pure_Mn + pure_Mg + pure_Ca + pure_Fe)\n",
    "    pyrope = pure_Mg / (pure_Mn + pure_Mg + pure_Ca + pure_Fe)\n",
    "    andra = pure_Ti / (pure_Mn + pure_Mg + pure_Ca + pure_Fe + pure_Ti)\n",
    "    iron = pure_Fe / (pure_Fe + pure_Mg)\n",
    "\n",
    "    spess = merge_frame_sort(spess,transect)\n",
    "    gross = merge_frame_sort(gross,transect)\n",
    "    alman = merge_frame_sort(alman,transect)\n",
    "    pyrope = merge_frame_sort(pyrope,transect)\n",
    "    iron = merge_frame_sort(iron,transect)\n",
    "    andra = merge_frame_sort(andra,transect)\n",
    "\n",
    "    return spess,gross,alman,pyrope,iron,andra"
   ]
  },
  {
   "cell_type": "code",
   "execution_count": 13,
   "id": "ddfac3d9",
   "metadata": {},
   "outputs": [],
   "source": [
    "# This function takes X,Y data dand returns an array with\n",
    "# Distance from rim point\n",
    "\n",
    "def rim_to_rim(grain_frame):\n",
    "\n",
    "    x_start = float(grain_frame[\"X-POS\"].values[:1])\n",
    "    y_start = float(grain_frame[\"Y-POS\"].values[:1])\n",
    "    new_x = np.abs(grain_frame[\"X-POS\"] - x_start)\n",
    "    new_y = np.abs(grain_frame[\"Y-POS\"] - y_start)\n",
    "    dist = np.power(new_x**2+new_y**2,0.5)\n",
    "    normalized = (dist-min(dist))/(max(dist)-min(dist))\n",
    "    #print(normalized)\n",
    "    return normalized"
   ]
  },
  {
   "cell_type": "code",
   "execution_count": 14,
   "id": "e684719f",
   "metadata": {},
   "outputs": [],
   "source": [
    "# Plots 4 graphs of desired composition as a function of distance\n",
    "# through the crystal\n",
    "def plot_it(spess,gross,alman,pyrope,iron, fig, axs):\n",
    " \n",
    "\n",
    "    fig.supxlabel(\"Normalized Distance From Rim to Rim\")\n",
    "    fig.supylabel(\"Mole Fraction\")\n",
    "    axs[0,0].plot(spess[1],spess[0], marker='o',markeredgecolor = '0') ; axs[0,0].set_title('Spessartine')\n",
    "    #axs[0,0].set(xlabel = (\"Distance From Rim to Rim\"), ylabel = ('Amount of Spessartine'))\n",
    "    axs[0,1].plot(gross[1],gross[0], marker = 'o',markeredgecolor = '0') ; axs[0,1].set_title('Grossular')\n",
    "    #axs[0,1].set(xlabel = (\"Distance From Rim to Rim\"), ylabel = ('Amount of Grossular'))\n",
    "    axs[1,0].plot(pyrope[1],pyrope[0], marker = 'o',markeredgecolor = '0') ; axs[1,0].set_title('Pyrope')\n",
    "    #axs[1,0].set(xlabel = (\"Distance From Rim to Rim\"), ylabel = ('Amount of Pyrope'))\n",
    "    axs[1,1].plot(alman[1],alman[0], marker = 'o',markeredgecolor = '0') ; axs[1,1].set_title('alman')\n",
    "   # axs[1,1].set(xlabel = (\"Distance From Rim to Rim\"), ylabel = ('Amount of Fe+Fe/Mg'))\n",
    "\n",
    "    plt.tight_layout()"
   ]
  },
  {
   "cell_type": "markdown",
   "id": "51d90e51",
   "metadata": {},
   "source": [
    "## This section is for regressions."
   ]
  },
  {
   "cell_type": "code",
   "execution_count": 15,
   "id": "944ff0b3",
   "metadata": {},
   "outputs": [],
   "source": [
    "#Plotting function called by polynomial_regression()\n",
    "def poly_plot_it(x,y,a0,a1,a2):\n",
    "\n",
    "\n",
    "    plt.xlabel('X'); plt.ylabel('Y')\n",
    "    plt.plot(x, y, 'ro', label='Data points')\n",
    "    plt.plot(x, a0+(a1*x)+(a2*np.power(x,2)),label='Fitting')\n",
    "    plt.grid(True)\n",
    "    plt.legend()\n",
    "    plt.show()\n",
    "\n",
    "    "
   ]
  },
  {
   "cell_type": "code",
   "execution_count": 16,
   "id": "55183d46",
   "metadata": {},
   "outputs": [],
   "source": [
    "# Polynomial regression function is good for plotting a polynomial line\n",
    "# through a set of point. This is good for fitting with respect to curves\n",
    "# bends in the data trend.\n",
    "def polynomial_regression(x,y):\n",
    "\n",
    "    n = len(x)\n",
    "    A = np.array([[n, np.sum(x), np.sum(x**2)],\n",
    "                  [np.sum(x),np.sum(x**2),np.sum(x**3)],\n",
    "                  [np.sum(x**2),np.sum(x**3),np.sum(x**4)]])\n",
    "    b = np.array([np.sum(y),np.sum(x*y),np.sum((x**2)*y)])\n",
    "\n",
    "    a0,a1,a2 = np.linalg.solve(A,b)\n",
    "\n",
    "\n",
    "    # plot_it = int(input('Type 1 for poly_plot, 0 for no plot: '))\n",
    "    # if plot_it == 1:\n",
    "\n",
    "    poly_plot_it(x,y,a0,a1,a2)\n",
    "\n",
    "\n",
    "    return a0,a1,a2"
   ]
  },
  {
   "cell_type": "markdown",
   "id": "8c92efe0",
   "metadata": {},
   "source": [
    "Necessary function for dataframe organization"
   ]
  },
  {
   "cell_type": "code",
   "execution_count": 17,
   "id": "20b45bc1",
   "metadata": {},
   "outputs": [],
   "source": [
    "# This combines two separate data frames and sorts the values in ascending order\n",
    "# from the transect. Returns the sorted frame\n",
    "def merge_frame_sort(df1, df2):\n",
    "\n",
    "    merge_frame = pd.concat([df1, df2], axis=1)\n",
    "    sorted_frame = merge_frame.sort_values(by = 1)\n",
    "\n",
    "    return sorted_frame"
   ]
  },
  {
   "cell_type": "markdown",
   "id": "79c7ed3c",
   "metadata": {},
   "source": [
    "main function to pull everything together"
   ]
  },
  {
   "cell_type": "code",
   "execution_count": 19,
   "id": "4c56b5b6",
   "metadata": {},
   "outputs": [
    {
     "ename": "PermissionError",
     "evalue": "[Errno 1] Operation not permitted: '/Users/llewnosukepriimak/Desktop/Siwaliks Project/EPMA Data/SK_17_16_8_7.xlsx'",
     "output_type": "error",
     "traceback": [
      "\u001b[0;31m---------------------------------------------------------------------------\u001b[0m",
      "\u001b[0;31mPermissionError\u001b[0m                           Traceback (most recent call last)",
      "Input \u001b[0;32mIn [19]\u001b[0m, in \u001b[0;36m<cell line: 34>\u001b[0;34m()\u001b[0m\n\u001b[1;32m     29\u001b[0m     \u001b[38;5;66;03m#polynomial_regression(spess[1],spess[0])\u001b[39;00m\n\u001b[1;32m     30\u001b[0m     plt\u001b[38;5;241m.\u001b[39mshow()\n\u001b[0;32m---> 34\u001b[0m \u001b[43mmain\u001b[49m\u001b[43m(\u001b[49m\u001b[43m)\u001b[49m\n",
      "Input \u001b[0;32mIn [19]\u001b[0m, in \u001b[0;36mmain\u001b[0;34m()\u001b[0m\n\u001b[1;32m      1\u001b[0m \u001b[38;5;28;01mdef\u001b[39;00m \u001b[38;5;21mmain\u001b[39m():\n\u001b[1;32m      3\u001b[0m     file_path \u001b[38;5;241m=\u001b[39m \u001b[38;5;124mr\u001b[39m\u001b[38;5;124m\"\u001b[39m\u001b[38;5;124m/Users/llewnosukepriimak/Desktop/Siwaliks Project/EPMA Data/SK_17_16_8_7.xlsx\u001b[39m\u001b[38;5;124m\"\u001b[39m\n\u001b[0;32m----> 4\u001b[0m     df \u001b[38;5;241m=\u001b[39m \u001b[43mpd\u001b[49m\u001b[38;5;241;43m.\u001b[39;49m\u001b[43mread_excel\u001b[49m\u001b[43m(\u001b[49m\u001b[43mfile_path\u001b[49m\u001b[43m)\u001b[49m\n\u001b[1;32m      6\u001b[0m     complete \u001b[38;5;241m=\u001b[39m \u001b[38;5;28;01mTrue\u001b[39;00m\n\u001b[1;32m      7\u001b[0m     set_of_grains \u001b[38;5;241m=\u001b[39m []\n",
      "File \u001b[0;32m~/opt/anaconda3/lib/python3.9/site-packages/pandas/util/_decorators.py:311\u001b[0m, in \u001b[0;36mdeprecate_nonkeyword_arguments.<locals>.decorate.<locals>.wrapper\u001b[0;34m(*args, **kwargs)\u001b[0m\n\u001b[1;32m    305\u001b[0m \u001b[38;5;28;01mif\u001b[39;00m \u001b[38;5;28mlen\u001b[39m(args) \u001b[38;5;241m>\u001b[39m num_allow_args:\n\u001b[1;32m    306\u001b[0m     warnings\u001b[38;5;241m.\u001b[39mwarn(\n\u001b[1;32m    307\u001b[0m         msg\u001b[38;5;241m.\u001b[39mformat(arguments\u001b[38;5;241m=\u001b[39marguments),\n\u001b[1;32m    308\u001b[0m         \u001b[38;5;167;01mFutureWarning\u001b[39;00m,\n\u001b[1;32m    309\u001b[0m         stacklevel\u001b[38;5;241m=\u001b[39mstacklevel,\n\u001b[1;32m    310\u001b[0m     )\n\u001b[0;32m--> 311\u001b[0m \u001b[38;5;28;01mreturn\u001b[39;00m \u001b[43mfunc\u001b[49m\u001b[43m(\u001b[49m\u001b[38;5;241;43m*\u001b[39;49m\u001b[43margs\u001b[49m\u001b[43m,\u001b[49m\u001b[43m \u001b[49m\u001b[38;5;241;43m*\u001b[39;49m\u001b[38;5;241;43m*\u001b[39;49m\u001b[43mkwargs\u001b[49m\u001b[43m)\u001b[49m\n",
      "File \u001b[0;32m~/opt/anaconda3/lib/python3.9/site-packages/pandas/io/excel/_base.py:457\u001b[0m, in \u001b[0;36mread_excel\u001b[0;34m(io, sheet_name, header, names, index_col, usecols, squeeze, dtype, engine, converters, true_values, false_values, skiprows, nrows, na_values, keep_default_na, na_filter, verbose, parse_dates, date_parser, thousands, decimal, comment, skipfooter, convert_float, mangle_dupe_cols, storage_options)\u001b[0m\n\u001b[1;32m    455\u001b[0m \u001b[38;5;28;01mif\u001b[39;00m \u001b[38;5;129;01mnot\u001b[39;00m \u001b[38;5;28misinstance\u001b[39m(io, ExcelFile):\n\u001b[1;32m    456\u001b[0m     should_close \u001b[38;5;241m=\u001b[39m \u001b[38;5;28;01mTrue\u001b[39;00m\n\u001b[0;32m--> 457\u001b[0m     io \u001b[38;5;241m=\u001b[39m \u001b[43mExcelFile\u001b[49m\u001b[43m(\u001b[49m\u001b[43mio\u001b[49m\u001b[43m,\u001b[49m\u001b[43m \u001b[49m\u001b[43mstorage_options\u001b[49m\u001b[38;5;241;43m=\u001b[39;49m\u001b[43mstorage_options\u001b[49m\u001b[43m,\u001b[49m\u001b[43m \u001b[49m\u001b[43mengine\u001b[49m\u001b[38;5;241;43m=\u001b[39;49m\u001b[43mengine\u001b[49m\u001b[43m)\u001b[49m\n\u001b[1;32m    458\u001b[0m \u001b[38;5;28;01melif\u001b[39;00m engine \u001b[38;5;129;01mand\u001b[39;00m engine \u001b[38;5;241m!=\u001b[39m io\u001b[38;5;241m.\u001b[39mengine:\n\u001b[1;32m    459\u001b[0m     \u001b[38;5;28;01mraise\u001b[39;00m \u001b[38;5;167;01mValueError\u001b[39;00m(\n\u001b[1;32m    460\u001b[0m         \u001b[38;5;124m\"\u001b[39m\u001b[38;5;124mEngine should not be specified when passing \u001b[39m\u001b[38;5;124m\"\u001b[39m\n\u001b[1;32m    461\u001b[0m         \u001b[38;5;124m\"\u001b[39m\u001b[38;5;124man ExcelFile - ExcelFile already has the engine set\u001b[39m\u001b[38;5;124m\"\u001b[39m\n\u001b[1;32m    462\u001b[0m     )\n",
      "File \u001b[0;32m~/opt/anaconda3/lib/python3.9/site-packages/pandas/io/excel/_base.py:1376\u001b[0m, in \u001b[0;36mExcelFile.__init__\u001b[0;34m(self, path_or_buffer, engine, storage_options)\u001b[0m\n\u001b[1;32m   1374\u001b[0m     ext \u001b[38;5;241m=\u001b[39m \u001b[38;5;124m\"\u001b[39m\u001b[38;5;124mxls\u001b[39m\u001b[38;5;124m\"\u001b[39m\n\u001b[1;32m   1375\u001b[0m \u001b[38;5;28;01melse\u001b[39;00m:\n\u001b[0;32m-> 1376\u001b[0m     ext \u001b[38;5;241m=\u001b[39m \u001b[43minspect_excel_format\u001b[49m\u001b[43m(\u001b[49m\n\u001b[1;32m   1377\u001b[0m \u001b[43m        \u001b[49m\u001b[43mcontent_or_path\u001b[49m\u001b[38;5;241;43m=\u001b[39;49m\u001b[43mpath_or_buffer\u001b[49m\u001b[43m,\u001b[49m\u001b[43m \u001b[49m\u001b[43mstorage_options\u001b[49m\u001b[38;5;241;43m=\u001b[39;49m\u001b[43mstorage_options\u001b[49m\n\u001b[1;32m   1378\u001b[0m \u001b[43m    \u001b[49m\u001b[43m)\u001b[49m\n\u001b[1;32m   1379\u001b[0m     \u001b[38;5;28;01mif\u001b[39;00m ext \u001b[38;5;129;01mis\u001b[39;00m \u001b[38;5;28;01mNone\u001b[39;00m:\n\u001b[1;32m   1380\u001b[0m         \u001b[38;5;28;01mraise\u001b[39;00m \u001b[38;5;167;01mValueError\u001b[39;00m(\n\u001b[1;32m   1381\u001b[0m             \u001b[38;5;124m\"\u001b[39m\u001b[38;5;124mExcel file format cannot be determined, you must specify \u001b[39m\u001b[38;5;124m\"\u001b[39m\n\u001b[1;32m   1382\u001b[0m             \u001b[38;5;124m\"\u001b[39m\u001b[38;5;124man engine manually.\u001b[39m\u001b[38;5;124m\"\u001b[39m\n\u001b[1;32m   1383\u001b[0m         )\n",
      "File \u001b[0;32m~/opt/anaconda3/lib/python3.9/site-packages/pandas/io/excel/_base.py:1250\u001b[0m, in \u001b[0;36minspect_excel_format\u001b[0;34m(content_or_path, storage_options)\u001b[0m\n\u001b[1;32m   1247\u001b[0m \u001b[38;5;28;01mif\u001b[39;00m \u001b[38;5;28misinstance\u001b[39m(content_or_path, \u001b[38;5;28mbytes\u001b[39m):\n\u001b[1;32m   1248\u001b[0m     content_or_path \u001b[38;5;241m=\u001b[39m BytesIO(content_or_path)\n\u001b[0;32m-> 1250\u001b[0m \u001b[38;5;28;01mwith\u001b[39;00m \u001b[43mget_handle\u001b[49m\u001b[43m(\u001b[49m\n\u001b[1;32m   1251\u001b[0m \u001b[43m    \u001b[49m\u001b[43mcontent_or_path\u001b[49m\u001b[43m,\u001b[49m\u001b[43m \u001b[49m\u001b[38;5;124;43m\"\u001b[39;49m\u001b[38;5;124;43mrb\u001b[39;49m\u001b[38;5;124;43m\"\u001b[39;49m\u001b[43m,\u001b[49m\u001b[43m \u001b[49m\u001b[43mstorage_options\u001b[49m\u001b[38;5;241;43m=\u001b[39;49m\u001b[43mstorage_options\u001b[49m\u001b[43m,\u001b[49m\u001b[43m \u001b[49m\u001b[43mis_text\u001b[49m\u001b[38;5;241;43m=\u001b[39;49m\u001b[38;5;28;43;01mFalse\u001b[39;49;00m\n\u001b[1;32m   1252\u001b[0m \u001b[43m\u001b[49m\u001b[43m)\u001b[49m \u001b[38;5;28;01mas\u001b[39;00m handle:\n\u001b[1;32m   1253\u001b[0m     stream \u001b[38;5;241m=\u001b[39m handle\u001b[38;5;241m.\u001b[39mhandle\n\u001b[1;32m   1254\u001b[0m     stream\u001b[38;5;241m.\u001b[39mseek(\u001b[38;5;241m0\u001b[39m)\n",
      "File \u001b[0;32m~/opt/anaconda3/lib/python3.9/site-packages/pandas/io/common.py:795\u001b[0m, in \u001b[0;36mget_handle\u001b[0;34m(path_or_buf, mode, encoding, compression, memory_map, is_text, errors, storage_options)\u001b[0m\n\u001b[1;32m    786\u001b[0m         handle \u001b[38;5;241m=\u001b[39m \u001b[38;5;28mopen\u001b[39m(\n\u001b[1;32m    787\u001b[0m             handle,\n\u001b[1;32m    788\u001b[0m             ioargs\u001b[38;5;241m.\u001b[39mmode,\n\u001b[0;32m   (...)\u001b[0m\n\u001b[1;32m    791\u001b[0m             newline\u001b[38;5;241m=\u001b[39m\u001b[38;5;124m\"\u001b[39m\u001b[38;5;124m\"\u001b[39m,\n\u001b[1;32m    792\u001b[0m         )\n\u001b[1;32m    793\u001b[0m     \u001b[38;5;28;01melse\u001b[39;00m:\n\u001b[1;32m    794\u001b[0m         \u001b[38;5;66;03m# Binary mode\u001b[39;00m\n\u001b[0;32m--> 795\u001b[0m         handle \u001b[38;5;241m=\u001b[39m \u001b[38;5;28;43mopen\u001b[39;49m\u001b[43m(\u001b[49m\u001b[43mhandle\u001b[49m\u001b[43m,\u001b[49m\u001b[43m \u001b[49m\u001b[43mioargs\u001b[49m\u001b[38;5;241;43m.\u001b[39;49m\u001b[43mmode\u001b[49m\u001b[43m)\u001b[49m\n\u001b[1;32m    796\u001b[0m     handles\u001b[38;5;241m.\u001b[39mappend(handle)\n\u001b[1;32m    798\u001b[0m \u001b[38;5;66;03m# Convert BytesIO or file objects passed with an encoding\u001b[39;00m\n",
      "\u001b[0;31mPermissionError\u001b[0m: [Errno 1] Operation not permitted: '/Users/llewnosukepriimak/Desktop/Siwaliks Project/EPMA Data/SK_17_16_8_7.xlsx'"
     ]
    }
   ],
   "source": [
    "\n",
    "def main():\n",
    "    \n",
    "    file_path = r\"/Users/llewnosukepriimak/Desktop/Siwaliks Project/EPMA Data/SK_17_16_8_7.xlsx\"\n",
    "    df = pd.read_excel(file_path)\n",
    "\n",
    "    complete = True\n",
    "    set_of_grains = []\n",
    "    while complete is True:\n",
    "        new_grain = input(\"Please type the number of the grain you \\nwant from the NUMBER column in the excel sheet \\nor if you chose all grains type DONE: \")\n",
    "        if new_grain == \"DONE\":\n",
    "            break\n",
    "        set_of_grains.append(int(new_grain))\n",
    "    #print(set_of_grains)\n",
    "    #num = int(input(\"Please type the number of the grain you \\nwant from the NUMBER column in the excel sheet: \"))\n",
    "    fig, axs = plt.subplots(2, 2)\n",
    "    #fig.suptitle(f'Sample/Grain {title_grain}')\n",
    "    grain_names = []\n",
    "    for num in set_of_grains:\n",
    "        one_grain = df.loc[(df[\"NUMBER\"] == num)]\n",
    "        transect = rim_to_rim(one_grain)\n",
    "        spess,gross,alm,pyrope,iron,andra = value_correction(one_grain,transect)\n",
    "        title_grain = (one_grain[\"SAMPLE\"].head(1).values[:])[0]\n",
    "        grain_names.append(title_grain)\n",
    "        plot_it(spess, gross, alm, pyrope, iron,fig,axs)\n",
    "\n",
    "    #fig.legend(grain_names,loc=\"center\", shadow=True, fancybox=True)\n",
    "    fig.legend(grain_names,loc = (0.39,0.96), ncol=len(grain_names),shadow=True, fancybox=True)\n",
    "    plt.tight_layout()\n",
    "    #polynomial_regression(spess[1],spess[0])\n",
    "    plt.show()\n",
    "\n",
    "\n",
    "\n",
    "main()"
   ]
  },
  {
   "cell_type": "code",
   "execution_count": null,
   "id": "07c933c0",
   "metadata": {},
   "outputs": [],
   "source": []
  },
  {
   "cell_type": "code",
   "execution_count": null,
   "id": "dc94c5d6",
   "metadata": {},
   "outputs": [],
   "source": []
  }
 ],
 "metadata": {
  "kernelspec": {
   "display_name": "Python 3 (ipykernel)",
   "language": "python",
   "name": "python3"
  },
  "language_info": {
   "codemirror_mode": {
    "name": "ipython",
    "version": 3
   },
   "file_extension": ".py",
   "mimetype": "text/x-python",
   "name": "python",
   "nbconvert_exporter": "python",
   "pygments_lexer": "ipython3",
   "version": "3.9.12"
  }
 },
 "nbformat": 4,
 "nbformat_minor": 5
}
